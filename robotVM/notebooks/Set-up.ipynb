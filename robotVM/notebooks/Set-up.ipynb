{
 "cells": [
  {
   "cell_type": "markdown",
   "metadata": {},
   "source": [
    "# Set-up\n",
    "\n",
    "This notebook contains configuration code for using the V-REP simulator from Jupyter notebooks.\n",
    "\n",
    "It includes:\n",
    "\n",
    "- configuration details for the environmental variables the simulator expects to be set/\n",
    "- helper functions for introspecting robot model classes and objects\n",
    "- IPython magic definition and registration for magics used to access the simulator.\n",
    "\n",
    "The notebook can be run from another notebook using the `%run` magic with the path to this notebook.\n",
    "\n",
    "*You should not need to change anything in this notebook. In fact, you shouldn't need to look at it...*"
   ]
  },
  {
   "cell_type": "code",
   "execution_count": null,
   "metadata": {},
   "outputs": [],
   "source": [
    "##On CLI under sudo\n",
    "#!pip3 install 'git+https://github.com/Troxid/vrep-api-python'"
   ]
  },
  {
   "cell_type": "code",
   "execution_count": 1,
   "metadata": {
    "collapsed": true
   },
   "outputs": [],
   "source": [
    "#Can't seem to set environment variables anywhere that Python can see them?\n",
    "import os\n",
    "os.environ[\"VREP_VM\"]='1'"
   ]
  },
  {
   "cell_type": "code",
   "execution_count": 2,
   "metadata": {
    "collapsed": true
   },
   "outputs": [],
   "source": [
    "import os\n",
    "\n",
    "if \"VREP_VM\" in os.environ:\n",
    "    os.environ[\"VREP\"]='/opt/V-REP_PRO_EDU_V3_4_0_Linux'\n",
    "    os.environ[\"VREP_LIBRARY\"]=os.environ[\"VREP\"]+'/programming/remoteApiBindings/lib/lib/64Bit/'\n",
    "else:\n",
    "    os.environ[\"VREP\"]='/Applications/V-REP_PRO_EDU_V3_4_0_Mac'\n",
    "    os.environ[\"VREP_LIBRARY\"]=os.environ[\"VREP\"]+'/programming/remoteApiBindings/lib/lib/'"
   ]
  },
  {
   "cell_type": "code",
   "execution_count": 3,
   "metadata": {
    "collapsed": true
   },
   "outputs": [],
   "source": [
    "def show_methods(c):\n",
    "    if type(c) != type: c=type(c)\n",
    "    methods = [method for method in dir(c) if not method.startswith('_')]\n",
    "    print('Methods available in {}:\\n\\t{}'.format(c.__name__ , '\\n\\t'.join(methods)))"
   ]
  },
  {
   "cell_type": "code",
   "execution_count": null,
   "metadata": {},
   "outputs": [],
   "source": [
    "def show_attributes(r):\n",
    "    print('State elements for the {}:\\n\\t{}'.format(type(r).__name__ ,\n",
    "                                                    '\\n\\t'.join(list(vars(r).keys()))))\n"
   ]
  },
  {
   "cell_type": "code",
   "execution_count": null,
   "metadata": {},
   "outputs": [],
   "source": [
    "from __future__ import print_function\n",
    "\n",
    "from pyrep import VRep\n",
    "from pyrep.vrep import vrep as vrep\n",
    "\n",
    "from IPython.core.magic import (Magics, magics_class, line_magic,\n",
    "                                cell_magic, line_cell_magic)\n",
    "import shlex\n",
    "\n",
    "# The class MUST call this class decorator at creation time\n",
    "@magics_class\n",
    "class Vrep_Sim(Magics):\n",
    "\n",
    "    @cell_magic\n",
    "    def vrepsim(self, line, cell):\n",
    "        \"V-REP magic\"\n",
    "        \n",
    "        args=shlex.split(line)\n",
    "        \n",
    "        if len(args)>1:\n",
    "            #Use shlex.split to handle quoted strings containing a space character\n",
    "            loadSceneRelativeToClient(args[0])\n",
    "            #Get the robot class from the string\n",
    "            robotclass=eval(args[1])\n",
    "        else:\n",
    "            #Get the robot class from the string\n",
    "            robotclass=eval(args[0])\n",
    "        \n",
    "        #Handle default IP address and port settings; grab from globals if set\n",
    "        ip = self.shell.user_ns['vrep_ip'] if 'vrep_ip' in self.shell.user_ns else '127.0.0.1'\n",
    "        port = self.shell.user_ns['vrep_port'] if 'vrep_port' in self.shell.user_ns else 19997\n",
    "        \n",
    "        #The try/except block exits form a keyboard interrupt cleanly\n",
    "        try:\n",
    "            #Create a connection to the simulator\n",
    "            with VRep.connect(ip, port) as api:\n",
    "                #Set the robot variable to an instance of the desired robot class\n",
    "                robot = robotclass(api)\n",
    "                #Execute the cell code - define robot commands as calls on: robot\n",
    "                exec(cell)\n",
    "        except KeyboardInterrupt:\n",
    "            pass\n",
    "\n",
    "    #@line_cell_magic\n",
    "    @line_magic\n",
    "    def vrep_robot_methods(self, line):\n",
    "        \"Show methods\"\n",
    "        robotclass = eval(line)\n",
    "        methods = [method for method in dir(robotclass) if not method.startswith('_')]\n",
    "        print('Methods available in {}:\\n\\t{}'.format(robotclass.__name__ , '\\n\\t'.join(methods)))\n",
    "\n",
    "#Could install as magic separately\n",
    "ip = get_ipython()\n",
    "ip.register_magics(Vrep_Sim)"
   ]
  }
 ],
 "metadata": {
  "kernelspec": {
   "display_name": "Python 3",
   "language": "python",
   "name": "python3"
  },
  "language_info": {
   "codemirror_mode": {
    "name": "ipython",
    "version": 3
   },
   "file_extension": ".py",
   "mimetype": "text/x-python",
   "name": "python",
   "nbconvert_exporter": "python",
   "pygments_lexer": "ipython3",
   "version": "3.6.1"
  }
 },
 "nbformat": 4,
 "nbformat_minor": 2
}
